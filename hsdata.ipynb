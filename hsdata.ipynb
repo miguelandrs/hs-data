{
 "cells": [
  {
   "cell_type": "code",
   "execution_count": 1,
   "metadata": {},
   "outputs": [],
   "source": [
    "import time\n",
    "import re\n",
    "from datetime import datetime\n",
    "import pandas as pd\n",
    "from bs4 import BeautifulSoup"
   ]
  },
  {
   "cell_type": "code",
   "execution_count": 4,
   "metadata": {},
   "outputs": [],
   "source": [
    "from selenium import webdriver\n",
    "from selenium.webdriver.chrome.options import Options\n",
    "# from selenium.webdriver.common.by import By\n",
    "# from selenium.webdriver.support.ui import WebDriverWait\n",
    "# from selenium.webdriver.support import expected_conditions as EC"
   ]
  },
  {
   "cell_type": "code",
   "execution_count": 5,
   "metadata": {},
   "outputs": [],
   "source": [
    "chrome_options = Options()\n",
    "chrome_options.add_argument('--headless')\n",
    "driver = webdriver.Chrome(options=chrome_options)\n",
    "# driver.implicitly_wait(10)"
   ]
  },
  {
   "cell_type": "code",
   "execution_count": 6,
   "metadata": {},
   "outputs": [],
   "source": [
    "driver.get('https://hsreplay.net/meta/#tab=archetypes')\n",
    "time.sleep(10)\n",
    "\n",
    "# try:\n",
    "#     element = WebDriverWait(driver, 10).until(\n",
    "#         EC.presence_of_element_located((By.ID, \"myDynamicElement\"))\n",
    "#     )\n",
    "# finally:\n",
    "#     driver.quit()"
   ]
  },
  {
   "cell_type": "code",
   "execution_count": 7,
   "metadata": {},
   "outputs": [
    {
     "data": {
      "text/plain": [
       "'complete'"
      ]
     },
     "execution_count": 7,
     "metadata": {},
     "output_type": "execute_result"
    }
   ],
   "source": [
    "driver.execute_script('return document.readyState;')"
   ]
  },
  {
   "cell_type": "code",
   "execution_count": 8,
   "metadata": {},
   "outputs": [],
   "source": [
    "innerHTML = driver.execute_script(\"return document.body.innerHTML\")\n",
    "soup = BeautifulSoup(innerHTML, 'html.parser')"
   ]
  },
  {
   "cell_type": "code",
   "execution_count": null,
   "metadata": {},
   "outputs": [],
   "source": [
    "print(soup.prettify())"
   ]
  },
  {
   "cell_type": "code",
   "execution_count": 13,
   "metadata": {},
   "outputs": [],
   "source": [
    "all_decks = soup.find_all(\"a\",class_=\"table-cell\", attrs={\"aria-describedby\": re.compile(\"column0\")})"
   ]
  },
  {
   "cell_type": "code",
   "execution_count": 18,
   "metadata": {},
   "outputs": [
    {
     "data": {
      "text/plain": [
       "<a aria-describedby=\"table1-row0 table1-column0\" class=\"table-cell\" href=\"/archetypes/267/gonk-druid\" role=\"gridcell\" style=\"height: 36px; left: 0px; position: absolute; top: 0px; width: 172.667px; color: rgb(255, 80, 80); line-height: 36px; background: white;\">37.5%</a>"
      ]
     },
     "execution_count": 18,
     "metadata": {},
     "output_type": "execute_result"
    }
   ],
   "source": [
    "all_decks[0]"
   ]
  },
  {
   "cell_type": "code",
   "execution_count": 17,
   "metadata": {},
   "outputs": [
    {
     "data": {
      "text/plain": [
       "'/archetypes/267/gonk-druid'"
      ]
     },
     "execution_count": 17,
     "metadata": {},
     "output_type": "execute_result"
    }
   ],
   "source": [
    "all_decks[0].get('href')"
   ]
  },
  {
   "cell_type": "code",
   "execution_count": 23,
   "metadata": {},
   "outputs": [],
   "source": [
    "archetypes = list(map(lambda tag: (tag.get('href'), tag.contents[0].rstrip('%')), all_decks))"
   ]
  },
  {
   "cell_type": "code",
   "execution_count": 24,
   "metadata": {},
   "outputs": [],
   "source": [
    "archetypes_f = list(filter(lambda archetype: archetype[0] is not None, archetypes))"
   ]
  },
  {
   "cell_type": "code",
   "execution_count": 27,
   "metadata": {},
   "outputs": [],
   "source": [
    "links = [x[0] for x in archetypes_f]"
   ]
  },
  {
   "cell_type": "code",
   "execution_count": 28,
   "metadata": {},
   "outputs": [
    {
     "data": {
      "text/plain": [
       "['/archetypes/267/gonk-druid',\n",
       " '/archetypes/6/malygos-druid',\n",
       " '/archetypes/247/mechathun-druid',\n",
       " '/archetypes/226/mill-druid',\n",
       " '/archetypes/150/quest-druid',\n",
       " '/archetypes/205/spiteful-druid',\n",
       " '/archetypes/149/taunt-druid',\n",
       " '/archetypes/7/token-druid',\n",
       " '/archetypes/270/undatakah-druid',\n",
       " '/archetypes/272/big-secret-hunter',\n",
       " '/archetypes/139/deathrattle-hunter',\n",
       " '/archetypes/137/midrange-hunter',\n",
       " '/archetypes/212/odd-hunter',\n",
       " '/archetypes/180/recruit-hunter',\n",
       " '/archetypes/138/secret-hunter',\n",
       " '/archetypes/179/spell-hunter',\n",
       " '/archetypes/182/big-spell-mage',\n",
       " '/archetypes/145/elemental-mage',\n",
       " '/archetypes/1/freeze-mage',\n",
       " '/archetypes/235/murloc-mage',\n",
       " '/archetypes/214/odd-mage',\n",
       " '/archetypes/142/quest-mage',\n",
       " '/archetypes/273/secret-odd-mage',\n",
       " '/archetypes/11/tempo-mage',\n",
       " '/archetypes/261/deathrattle-paladin',\n",
       " '/archetypes/215/even-paladin',\n",
       " '/archetypes/268/holy-wrath-paladin',\n",
       " '/archetypes/249/mech-paladin',\n",
       " '/archetypes/168/otk-dk-paladin',\n",
       " '/archetypes/216/odd-paladin',\n",
       " '/archetypes/228/clone-priest',\n",
       " '/archetypes/206/combo-priest',\n",
       " '/archetypes/36/control-priest',\n",
       " '/archetypes/254/mechathun-priest',\n",
       " '/archetypes/255/mechathun-quest-priest',\n",
       " '/archetypes/56/quest-priest',\n",
       " '/archetypes/196/spiteful-priest',\n",
       " '/archetypes/260/turvy-otk-priest',\n",
       " '/archetypes/198/deathrattle-rogue',\n",
       " '/archetypes/240/even-rogue',\n",
       " '/archetypes/184/kingsbane-rogue',\n",
       " '/archetypes/3/malygos-rogue',\n",
       " '/archetypes/219/odd-rogue',\n",
       " '/archetypes/154/pirate-rogue',\n",
       " '/archetypes/250/pogo-rogue',\n",
       " '/archetypes/155/quest-rogue',\n",
       " '/archetypes/169/tempo-rogue',\n",
       " '/archetypes/269/aggro-overload-shaman',\n",
       " '/archetypes/274/dragon-shaman',\n",
       " '/archetypes/61/elemental-shaman',\n",
       " '/archetypes/220/even-shaman',\n",
       " '/archetypes/26/midrange-shaman',\n",
       " '/archetypes/127/overload-shaman',\n",
       " '/archetypes/221/shudderwock-shaman',\n",
       " '/archetypes/30/token-shaman',\n",
       " '/archetypes/63/control-warlock',\n",
       " '/archetypes/197/cube-warlock',\n",
       " '/archetypes/135/discard-warlock',\n",
       " '/archetypes/231/even-warlock',\n",
       " '/archetypes/252/mechathun-warlock',\n",
       " '/archetypes/134/zoo-warlock',\n",
       " '/archetypes/2/control-warrior',\n",
       " '/archetypes/19/dragon-warrior',\n",
       " '/archetypes/224/odd-quest-warrior',\n",
       " '/archetypes/223/odd-warrior',\n",
       " '/archetypes/162/quest-warrior',\n",
       " '/archetypes/222/rush-warrior']"
      ]
     },
     "execution_count": 28,
     "metadata": {},
     "output_type": "execute_result"
    }
   ],
   "source": [
    "links"
   ]
  },
  {
   "cell_type": "code",
   "execution_count": 19,
   "metadata": {},
   "outputs": [
    {
     "data": {
      "text/plain": [
       "'37.5%'"
      ]
     },
     "execution_count": 19,
     "metadata": {},
     "output_type": "execute_result"
    }
   ],
   "source": [
    "all_decks[0].contents[0].rstrip('%')"
   ]
  },
  {
   "cell_type": "code",
   "execution_count": 29,
   "metadata": {},
   "outputs": [],
   "source": [
    "deck_name_extract = re.compile('[^\\/]+$')"
   ]
  },
  {
   "cell_type": "code",
   "execution_count": null,
   "metadata": {},
   "outputs": [],
   "source": [
    "for link in links:\n",
    "    "
   ]
  },
  {
   "cell_type": "code",
   "execution_count": 8,
   "metadata": {},
   "outputs": [],
   "source": [
    "all_decks = soup.find_all(\"li\", class_=\"archetype-list-item\")\n",
    "links = list(map(lambda tag: tag.find(\"a\").get('href'), all_decks))\n",
    "\n",
    "deck_name_extract = re.compile('[^\\/]+$')\n",
    "base_url = 'https://hsreplay.net'\n",
    "winrates = {}\n",
    "df_wr = pd.DataFrame()\n",
    "\n",
    "for link in links[:3]:\n",
    "    deck = deck_name_extract.search(link).group()\n",
    "    url = base_url + link + '#tab=matchups'\n",
    "    print(f'{deck}:{url}')\n",
    "    driver.get(url)\n",
    "    time.sleep(5)\n",
    "    innerHTML = driver.execute_script(\"return document.body.innerHTML\")\n",
    "    soup = BeautifulSoup(innerHTML, 'html.parser')\n",
    "    matchups = soup.find_all(\"a\",class_=\"table-cell\", attrs={\"aria-describedby\": re.compile(\"column0\")})\n",
    "    winrates[deck] = list(map(lambda matchup: (float(matchup.contents[0].rstrip('%')), deck_name_extract.search(matchup.get('href')).group()), matchups))\n",
    "    \n",
    "    zlst = list(zip(*winrates[deck]))\n",
    "    s_wr = pd.Series(zlst[0], index=zlst[1])\n",
    "    \n",
    "    df_wr[deck] = s_wr"
   ]
  },
  {
   "cell_type": "code",
   "execution_count": 16,
   "metadata": {},
   "outputs": [],
   "source": [
    "driver.quit()\n",
    "\n",
    "df_wr = df_wr.T\n",
    "df_wr = df_wr[list(df_wr.index.values)]\n",
    "df_wr.to_csv(f\"hsreplay_winrates_{datetime.today().strftime('%Y%m%d')}.csv\")"
   ]
  },
  {
   "cell_type": "code",
   "execution_count": null,
   "metadata": {},
   "outputs": [],
   "source": [
    "# File approach\n",
    "# for i, line in enumerate(lines):\n",
    "#     if line.startswith('Versus'):\n",
    "#         matchups.append((' '.join(lines[i-1].split()),' '.join(lines[i].split()[1:]), float(' '.join(lines[i+1].split()[1:]).rstrip('%'))))"
   ]
  },
  {
   "cell_type": "code",
   "execution_count": null,
   "metadata": {},
   "outputs": [],
   "source": []
  }
 ],
 "metadata": {
  "kernelspec": {
   "display_name": "hsdata",
   "language": "python",
   "name": "hsdata"
  },
  "language_info": {
   "codemirror_mode": {
    "name": "ipython",
    "version": 3
   },
   "file_extension": ".py",
   "mimetype": "text/x-python",
   "name": "python",
   "nbconvert_exporter": "python",
   "pygments_lexer": "ipython3",
   "version": "3.6.3"
  }
 },
 "nbformat": 4,
 "nbformat_minor": 2
}
