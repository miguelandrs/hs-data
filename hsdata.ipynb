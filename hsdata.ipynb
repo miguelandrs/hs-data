{
 "cells": [
  {
   "cell_type": "code",
   "execution_count": 1,
   "metadata": {},
   "outputs": [],
   "source": [
    "import time\n",
    "import re\n",
    "from datetime import datetime\n",
    "import pandas as pd\n",
    "from bs4 import BeautifulSoup"
   ]
  },
  {
   "cell_type": "code",
   "execution_count": 2,
   "metadata": {},
   "outputs": [],
   "source": [
    "from selenium import webdriver\n",
    "# from selenium.webdriver.chrome.options import Options\n",
    "# from selenium.webdriver.common.by import By\n",
    "# from selenium.webdriver.support.ui import WebDriverWait\n",
    "# from selenium.webdriver.support import expected_conditions as EC"
   ]
  },
  {
   "cell_type": "code",
   "execution_count": 3,
   "metadata": {},
   "outputs": [],
   "source": [
    "chrome_options = Options()\n",
    "chrome_options.add_argument('--headless')\n",
    "driver = webdriver.Chrome(options=chrome_options)\n",
    "# driver.implicitly_wait(10)"
   ]
  },
  {
   "cell_type": "code",
   "execution_count": 4,
   "metadata": {},
   "outputs": [],
   "source": [
    "driver.get('https://hsreplay.net/meta/#tab=tierlist')\n",
    "time.sleep(10)\n",
    "\n",
    "# try:\n",
    "#     element = WebDriverWait(driver, 10).until(\n",
    "#         EC.presence_of_element_located((By.ID, \"myDynamicElement\"))\n",
    "#     )\n",
    "# finally:\n",
    "#     driver.quit()"
   ]
  },
  {
   "cell_type": "code",
   "execution_count": 7,
   "metadata": {},
   "outputs": [
    {
     "data": {
      "text/plain": [
       "'complete'"
      ]
     },
     "execution_count": 7,
     "metadata": {},
     "output_type": "execute_result"
    }
   ],
   "source": [
    "driver.execute_script('return document.readyState;')"
   ]
  },
  {
   "cell_type": "code",
   "execution_count": 8,
   "metadata": {},
   "outputs": [],
   "source": [
    "innerHTML = driver.execute_script(\"return document.body.innerHTML\")\n",
    "soup = BeautifulSoup(innerHTML, 'html.parser')\n",
    "all_decks = soup.find_all(\"li\", class_=\"archetype-list-item\")\n",
    "links = list(map(lambda tag: tag.find(\"a\").get('href'), all_decks))\n",
    "\n",
    "deck_name_extract = re.compile('[^\\/]+$')\n",
    "base_url = 'https://hsreplay.net'\n",
    "winrates = {}\n",
    "df_wr = pd.DataFrame()\n",
    "\n",
    "for link in links[:3]:\n",
    "    deck = deck_name_extract.search(link).group()\n",
    "    url = base_url + link + '#tab=matchups'\n",
    "    print(f'{deck}:{url}')\n",
    "    driver.get(url)\n",
    "    time.sleep(5)\n",
    "    innerHTML = driver.execute_script(\"return document.body.innerHTML\")\n",
    "    soup = BeautifulSoup(innerHTML, 'html.parser')\n",
    "    matchups = soup.find_all(\"a\",class_=\"table-cell\", attrs={\"aria-describedby\": re.compile(\"column0\")})\n",
    "    winrates[deck] = list(map(lambda matchup: (float(matchup.contents[0].rstrip('%')), deck_name_extract.search(matchup.get('href')).group()), matchups))\n",
    "    \n",
    "    zlst = list(zip(*winrates[deck]))\n",
    "    s_wr = pd.Series(zlst[0], index=zlst[1])\n",
    "    \n",
    "    df_wr[deck] = s_wr"
   ]
  },
  {
   "cell_type": "code",
   "execution_count": 16,
   "metadata": {},
   "outputs": [],
   "source": [
    "driver.quit()\n",
    "\n",
    "df_wr = df_wr.T\n",
    "df_wr = df_wr[list(df_wr.index.values)]\n",
    "df_wr.to_csv(f\"hsreplay_winrates_{datetime.today().strftime('%Y%m%d')}.csv\")"
   ]
  },
  {
   "cell_type": "code",
   "execution_count": null,
   "metadata": {},
   "outputs": [],
   "source": [
    "# File approach\n",
    "# for i, line in enumerate(lines):\n",
    "#     if line.startswith('Versus'):\n",
    "#         matchups.append((' '.join(lines[i-1].split()),' '.join(lines[i].split()[1:]), float(' '.join(lines[i+1].split()[1:]).rstrip('%'))))"
   ]
  },
  {
   "cell_type": "code",
   "execution_count": null,
   "metadata": {},
   "outputs": [],
   "source": []
  }
 ],
 "metadata": {
  "kernelspec": {
   "display_name": "hsdata",
   "language": "python",
   "name": "hsdata"
  },
  "language_info": {
   "codemirror_mode": {
    "name": "ipython",
    "version": 3
   },
   "file_extension": ".py",
   "mimetype": "text/x-python",
   "name": "python",
   "nbconvert_exporter": "python",
   "pygments_lexer": "ipython3",
   "version": "3.6.3"
  }
 },
 "nbformat": 4,
 "nbformat_minor": 2
}
