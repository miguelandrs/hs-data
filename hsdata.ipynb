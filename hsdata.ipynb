{
 "cells": [
  {
   "cell_type": "code",
   "execution_count": 34,
   "metadata": {},
   "outputs": [],
   "source": [
    "import time\n",
    "import re\n",
    "from datetime import datetime\n",
    "import pandas as pd\n",
    "from bs4 import BeautifulSoup\n",
    "import numpy as np"
   ]
  },
  {
   "cell_type": "code",
   "execution_count": 2,
   "metadata": {},
   "outputs": [],
   "source": [
    "from selenium import webdriver\n",
    "from selenium.webdriver.chrome.options import Options\n",
    "# from selenium.webdriver.common.by import By\n",
    "# from selenium.webdriver.support.ui import WebDriverWait\n",
    "# from selenium.webdriver.support import expected_conditions as EC"
   ]
  },
  {
   "cell_type": "code",
   "execution_count": 3,
   "metadata": {},
   "outputs": [],
   "source": [
    "chrome_options = Options()\n",
    "chrome_options.add_argument('--headless')\n",
    "driver = webdriver.Chrome(options=chrome_options)\n",
    "# driver.implicitly_wait(10)"
   ]
  },
  {
   "cell_type": "code",
   "execution_count": 4,
   "metadata": {},
   "outputs": [],
   "source": [
    "driver.get('https://hsreplay.net/meta/#tab=archetypes')\n",
    "time.sleep(10)\n",
    "\n",
    "# try:\n",
    "#     element = WebDriverWait(driver, 10).until(\n",
    "#         EC.presence_of_element_located((By.ID, \"myDynamicElement\"))\n",
    "#     )\n",
    "# finally:\n",
    "#     driver.quit()"
   ]
  },
  {
   "cell_type": "code",
   "execution_count": 5,
   "metadata": {},
   "outputs": [
    {
     "data": {
      "text/plain": [
       "'complete'"
      ]
     },
     "execution_count": 5,
     "metadata": {},
     "output_type": "execute_result"
    }
   ],
   "source": [
    "driver.execute_script('return document.readyState;')"
   ]
  },
  {
   "cell_type": "code",
   "execution_count": 8,
   "metadata": {},
   "outputs": [],
   "source": [
    "innerHTML = driver.execute_script(\"return document.body.innerHTML\")\n",
    "soup = BeautifulSoup(innerHTML, 'html.parser')"
   ]
  },
  {
   "cell_type": "code",
   "execution_count": null,
   "metadata": {},
   "outputs": [],
   "source": [
    "print(soup.prettify())"
   ]
  },
  {
   "cell_type": "code",
   "execution_count": 51,
   "metadata": {},
   "outputs": [],
   "source": [
    "all_decks = soup.find_all(\"a\",class_=\"table-cell\", attrs={\"aria-describedby\": re.compile(\"column0\")})"
   ]
  },
  {
   "cell_type": "code",
   "execution_count": 11,
   "metadata": {},
   "outputs": [
    {
     "data": {
      "text/plain": [
       "<a aria-describedby=\"table1-row0 table1-column0\" class=\"table-cell\" href=\"/archetypes/267/gonk-druid\" role=\"gridcell\" style=\"height: 36px; left: 0px; position: absolute; top: 0px; width: 174px; color: rgb(255, 80, 80); line-height: 36px; background: white;\">37.7%</a>"
      ]
     },
     "execution_count": 11,
     "metadata": {},
     "output_type": "execute_result"
    }
   ],
   "source": [
    "all_decks[0]"
   ]
  },
  {
   "cell_type": "code",
   "execution_count": 12,
   "metadata": {},
   "outputs": [
    {
     "data": {
      "text/plain": [
       "'/archetypes/267/gonk-druid'"
      ]
     },
     "execution_count": 12,
     "metadata": {},
     "output_type": "execute_result"
    }
   ],
   "source": [
    "all_decks[0].get('href')"
   ]
  },
  {
   "cell_type": "code",
   "execution_count": 52,
   "metadata": {},
   "outputs": [],
   "source": [
    "archetypes = list(map(lambda tag: (tag.get('href'), tag.contents[0].rstrip('%')), all_decks))"
   ]
  },
  {
   "cell_type": "code",
   "execution_count": 53,
   "metadata": {},
   "outputs": [],
   "source": [
    "archetypes_f = list(filter(lambda archetype: archetype[0] is not None, archetypes))"
   ]
  },
  {
   "cell_type": "code",
   "execution_count": 54,
   "metadata": {},
   "outputs": [],
   "source": [
    "links = [x[0] for x in archetypes_f]"
   ]
  },
  {
   "cell_type": "code",
   "execution_count": 55,
   "metadata": {},
   "outputs": [
    {
     "data": {
      "text/plain": [
       "['/archetypes/267/gonk-druid',\n",
       " '/archetypes/6/malygos-druid',\n",
       " '/archetypes/247/mechathun-druid',\n",
       " '/archetypes/226/mill-druid',\n",
       " '/archetypes/205/spiteful-druid',\n",
       " '/archetypes/149/taunt-druid',\n",
       " '/archetypes/7/token-druid',\n",
       " '/archetypes/270/undatakah-druid',\n",
       " '/archetypes/139/deathrattle-hunter',\n",
       " '/archetypes/137/midrange-hunter',\n",
       " '/archetypes/212/odd-hunter',\n",
       " '/archetypes/180/recruit-hunter',\n",
       " '/archetypes/138/secret-hunter',\n",
       " '/archetypes/179/spell-hunter',\n",
       " '/archetypes/182/big-spell-mage',\n",
       " '/archetypes/145/elemental-mage',\n",
       " '/archetypes/1/freeze-mage',\n",
       " '/archetypes/214/odd-mage',\n",
       " '/archetypes/142/quest-mage',\n",
       " '/archetypes/273/secret-odd-mage',\n",
       " '/archetypes/11/tempo-mage',\n",
       " '/archetypes/261/deathrattle-paladin',\n",
       " '/archetypes/215/even-paladin',\n",
       " '/archetypes/268/holy-wrath-paladin',\n",
       " '/archetypes/249/mech-paladin',\n",
       " '/archetypes/168/otk-dk-paladin',\n",
       " '/archetypes/216/odd-paladin',\n",
       " '/archetypes/15/secret-paladin',\n",
       " '/archetypes/228/clone-priest',\n",
       " '/archetypes/206/combo-priest',\n",
       " '/archetypes/36/control-priest',\n",
       " '/archetypes/254/mechathun-priest',\n",
       " '/archetypes/255/mechathun-quest-priest',\n",
       " '/archetypes/56/quest-priest',\n",
       " '/archetypes/196/spiteful-priest',\n",
       " '/archetypes/260/turvy-otk-priest',\n",
       " '/archetypes/198/deathrattle-rogue',\n",
       " '/archetypes/240/even-rogue',\n",
       " '/archetypes/184/kingsbane-rogue',\n",
       " '/archetypes/3/malygos-rogue',\n",
       " '/archetypes/219/odd-rogue',\n",
       " '/archetypes/250/pogo-rogue',\n",
       " '/archetypes/155/quest-rogue',\n",
       " '/archetypes/169/tempo-rogue',\n",
       " '/archetypes/276/thief-rogue',\n",
       " '/archetypes/269/aggro-overload-shaman',\n",
       " '/archetypes/274/dragon-shaman',\n",
       " '/archetypes/61/elemental-shaman',\n",
       " '/archetypes/220/even-shaman',\n",
       " '/archetypes/26/midrange-shaman',\n",
       " '/archetypes/221/shudderwock-shaman',\n",
       " '/archetypes/30/token-shaman',\n",
       " '/archetypes/63/control-warlock',\n",
       " '/archetypes/197/cube-warlock',\n",
       " '/archetypes/135/discard-warlock',\n",
       " '/archetypes/231/even-warlock',\n",
       " '/archetypes/252/mechathun-warlock',\n",
       " '/archetypes/134/zoo-warlock',\n",
       " '/archetypes/2/control-warrior',\n",
       " '/archetypes/19/dragon-warrior',\n",
       " '/archetypes/224/odd-quest-warrior',\n",
       " '/archetypes/223/odd-warrior',\n",
       " '/archetypes/162/quest-warrior',\n",
       " '/archetypes/188/recruit-warrior',\n",
       " '/archetypes/222/rush-warrior']"
      ]
     },
     "execution_count": 55,
     "metadata": {},
     "output_type": "execute_result"
    }
   ],
   "source": [
    "links"
   ]
  },
  {
   "cell_type": "code",
   "execution_count": 17,
   "metadata": {},
   "outputs": [
    {
     "data": {
      "text/plain": [
       "'37.7'"
      ]
     },
     "execution_count": 17,
     "metadata": {},
     "output_type": "execute_result"
    }
   ],
   "source": [
    "all_decks[0].contents[0].rstrip('%')"
   ]
  },
  {
   "cell_type": "code",
   "execution_count": 18,
   "metadata": {},
   "outputs": [],
   "source": [
    "deck_name_extract = re.compile('[^\\/]+$')"
   ]
  },
  {
   "cell_type": "code",
   "execution_count": 24,
   "metadata": {},
   "outputs": [],
   "source": [
    "deck = deck_name_extract.search(links[2]).group()"
   ]
  },
  {
   "cell_type": "code",
   "execution_count": 25,
   "metadata": {},
   "outputs": [
    {
     "data": {
      "text/plain": [
       "'Mechathun Druid'"
      ]
     },
     "execution_count": 25,
     "metadata": {},
     "output_type": "execute_result"
    }
   ],
   "source": [
    "deck.replace('-', ' ').title()"
   ]
  },
  {
   "cell_type": "code",
   "execution_count": 56,
   "metadata": {},
   "outputs": [
    {
     "name": "stdout",
     "output_type": "stream",
     "text": [
      "gonk-druid:https://hsreplay.net/archetypes/267/gonk-druid#tab=matchups\n",
      "malygos-druid:https://hsreplay.net/archetypes/6/malygos-druid#tab=matchups\n",
      "mechathun-druid:https://hsreplay.net/archetypes/247/mechathun-druid#tab=matchups\n"
     ]
    }
   ],
   "source": [
    "base_url = 'https://hsreplay.net'\n",
    "winrates = {}\n",
    "df_wr = pd.DataFrame()\n",
    "\n",
    "for link in links[:3]:\n",
    "    deck = deck_name_extract.search(link).group()\n",
    "    url = base_url + link + '#tab=matchups'\n",
    "    print(f'{deck}:{url}')\n",
    "    driver.get(url)\n",
    "    time.sleep(5)\n",
    "    innerHTML = driver.execute_script(\"return document.body.innerHTML\")\n",
    "    soup = BeautifulSoup(innerHTML, 'html.parser')\n",
    "    matchups = soup.find_all(\"a\",class_=\"table-cell\", attrs={\"aria-describedby\": re.compile(\"column0\")})\n",
    "    winrates[deck] = list(map(lambda matchup: (float(matchup.contents[0].rstrip('%')), deck_name_extract.search(matchup.get('href')).group()), matchups))\n",
    "    \n",
    "    zlst = list(zip(*winrates[deck]))\n",
    "    s_wr = pd.Series(zlst[0], index=zlst[1])\n",
    "    \n",
    "    df_wr[deck] = s_wr"
   ]
  },
  {
   "cell_type": "code",
   "execution_count": 57,
   "metadata": {},
   "outputs": [],
   "source": [
    "def clean_names(names):\n",
    "    return list(map(lambda deck:deck.replace('-', ' ').title(), list(names)))"
   ]
  },
  {
   "cell_type": "code",
   "execution_count": 58,
   "metadata": {},
   "outputs": [
    {
     "data": {
      "text/plain": [
       "['Gonk Druid', 'Malygos Druid', 'Mechathun Druid']"
      ]
     },
     "execution_count": 58,
     "metadata": {},
     "output_type": "execute_result"
    }
   ],
   "source": [
    "clean_names(df_wr.columns.values)"
   ]
  },
  {
   "cell_type": "code",
   "execution_count": 59,
   "metadata": {},
   "outputs": [
    {
     "data": {
      "text/plain": [
       "['Mechathun Druid',\n",
       " 'Deathrattle Hunter',\n",
       " 'Midrange Hunter',\n",
       " 'Secret Hunter',\n",
       " 'Spell Hunter',\n",
       " 'Big Spell Mage',\n",
       " 'Odd Mage',\n",
       " 'Tempo Mage',\n",
       " 'Even Paladin',\n",
       " 'Otk Dk Paladin',\n",
       " 'Odd Paladin',\n",
       " 'Clone Priest',\n",
       " 'Combo Priest',\n",
       " 'Control Priest',\n",
       " 'Odd Rogue',\n",
       " 'Tempo Rogue',\n",
       " 'Thief Rogue',\n",
       " 'Even Shaman',\n",
       " 'Control Warlock',\n",
       " 'Cube Warlock',\n",
       " 'Even Warlock',\n",
       " 'Zoo Warlock',\n",
       " 'Odd Quest Warrior',\n",
       " 'Odd Warrior']"
      ]
     },
     "execution_count": 59,
     "metadata": {},
     "output_type": "execute_result"
    }
   ],
   "source": [
    "clean_names(df_wr.index.values)"
   ]
  },
  {
   "cell_type": "code",
   "execution_count": 38,
   "metadata": {},
   "outputs": [
    {
     "data": {
      "text/plain": [
       "['mechathun-druid',\n",
       " 'deathrattle-hunter',\n",
       " 'midrange-hunter',\n",
       " 'secret-hunter',\n",
       " 'spell-hunter',\n",
       " 'big-spell-mage',\n",
       " 'odd-mage',\n",
       " 'tempo-mage',\n",
       " 'even-paladin',\n",
       " 'otk-dk-paladin',\n",
       " 'odd-paladin',\n",
       " 'clone-priest',\n",
       " 'combo-priest',\n",
       " 'control-priest',\n",
       " 'odd-rogue',\n",
       " 'tempo-rogue',\n",
       " 'thief-rogue',\n",
       " 'even-shaman',\n",
       " 'control-warlock',\n",
       " 'cube-warlock',\n",
       " 'even-warlock',\n",
       " 'zoo-warlock',\n",
       " 'odd-quest-warrior',\n",
       " 'odd-warrior']"
      ]
     },
     "execution_count": 38,
     "metadata": {},
     "output_type": "execute_result"
    }
   ],
   "source": [
    "list(df_wr.index.values)"
   ]
  },
  {
   "cell_type": "code",
   "execution_count": 41,
   "metadata": {},
   "outputs": [],
   "source": [
    "df_wr.index = list(map(lambda deck:deck.replace('-', ' ').title(), list(df_wr.index.values)))"
   ]
  },
  {
   "cell_type": "code",
   "execution_count": 46,
   "metadata": {},
   "outputs": [],
   "source": []
  },
  {
   "cell_type": "code",
   "execution_count": 47,
   "metadata": {},
   "outputs": [
    {
     "data": {
      "text/plain": [
       "['Gonk Druid', 'Malygos Druid', 'Mechathun Druid']"
      ]
     },
     "execution_count": 47,
     "metadata": {},
     "output_type": "execute_result"
    }
   ],
   "source": [
    "clean_names(df_wr.columns.values)"
   ]
  },
  {
   "cell_type": "code",
   "execution_count": 42,
   "metadata": {},
   "outputs": [
    {
     "data": {
      "text/html": [
       "<div>\n",
       "<style scoped>\n",
       "    .dataframe tbody tr th:only-of-type {\n",
       "        vertical-align: middle;\n",
       "    }\n",
       "\n",
       "    .dataframe tbody tr th {\n",
       "        vertical-align: top;\n",
       "    }\n",
       "\n",
       "    .dataframe thead th {\n",
       "        text-align: right;\n",
       "    }\n",
       "</style>\n",
       "<table border=\"1\" class=\"dataframe\">\n",
       "  <thead>\n",
       "    <tr style=\"text-align: right;\">\n",
       "      <th></th>\n",
       "      <th>Gonk Druid</th>\n",
       "      <th>Malygos Druid</th>\n",
       "      <th>Mechathun Druid</th>\n",
       "    </tr>\n",
       "  </thead>\n",
       "  <tbody>\n",
       "    <tr>\n",
       "      <th>Mechathun Druid</th>\n",
       "      <td>38.1</td>\n",
       "      <td>40.4</td>\n",
       "      <td>50.0</td>\n",
       "    </tr>\n",
       "    <tr>\n",
       "      <th>Deathrattle Hunter</th>\n",
       "      <td>30.1</td>\n",
       "      <td>30.4</td>\n",
       "      <td>28.4</td>\n",
       "    </tr>\n",
       "    <tr>\n",
       "      <th>Midrange Hunter</th>\n",
       "      <td>36.9</td>\n",
       "      <td>37.1</td>\n",
       "      <td>41.9</td>\n",
       "    </tr>\n",
       "    <tr>\n",
       "      <th>Secret Hunter</th>\n",
       "      <td>25.4</td>\n",
       "      <td>37.7</td>\n",
       "      <td>35.7</td>\n",
       "    </tr>\n",
       "    <tr>\n",
       "      <th>Spell Hunter</th>\n",
       "      <td>22.8</td>\n",
       "      <td>39.3</td>\n",
       "      <td>48.9</td>\n",
       "    </tr>\n",
       "    <tr>\n",
       "      <th>Big Spell Mage</th>\n",
       "      <td>39.5</td>\n",
       "      <td>50.0</td>\n",
       "      <td>45.3</td>\n",
       "    </tr>\n",
       "    <tr>\n",
       "      <th>Odd Mage</th>\n",
       "      <td>29.3</td>\n",
       "      <td>51.1</td>\n",
       "      <td>61.3</td>\n",
       "    </tr>\n",
       "    <tr>\n",
       "      <th>Tempo Mage</th>\n",
       "      <td>47.4</td>\n",
       "      <td>NaN</td>\n",
       "      <td>35.1</td>\n",
       "    </tr>\n",
       "    <tr>\n",
       "      <th>Even Paladin</th>\n",
       "      <td>28.2</td>\n",
       "      <td>30.6</td>\n",
       "      <td>47.2</td>\n",
       "    </tr>\n",
       "    <tr>\n",
       "      <th>Otk Dk Paladin</th>\n",
       "      <td>34.0</td>\n",
       "      <td>48.1</td>\n",
       "      <td>73.3</td>\n",
       "    </tr>\n",
       "    <tr>\n",
       "      <th>Odd Paladin</th>\n",
       "      <td>28.4</td>\n",
       "      <td>58.2</td>\n",
       "      <td>48.9</td>\n",
       "    </tr>\n",
       "    <tr>\n",
       "      <th>Clone Priest</th>\n",
       "      <td>45.7</td>\n",
       "      <td>59.2</td>\n",
       "      <td>46.7</td>\n",
       "    </tr>\n",
       "    <tr>\n",
       "      <th>Combo Priest</th>\n",
       "      <td>48.1</td>\n",
       "      <td>45.6</td>\n",
       "      <td>38.2</td>\n",
       "    </tr>\n",
       "    <tr>\n",
       "      <th>Control Priest</th>\n",
       "      <td>45.7</td>\n",
       "      <td>68.6</td>\n",
       "      <td>45.9</td>\n",
       "    </tr>\n",
       "    <tr>\n",
       "      <th>Odd Rogue</th>\n",
       "      <td>28.7</td>\n",
       "      <td>44.9</td>\n",
       "      <td>41.8</td>\n",
       "    </tr>\n",
       "    <tr>\n",
       "      <th>Tempo Rogue</th>\n",
       "      <td>50.0</td>\n",
       "      <td>35.5</td>\n",
       "      <td>34.3</td>\n",
       "    </tr>\n",
       "    <tr>\n",
       "      <th>Thief Rogue</th>\n",
       "      <td>51.6</td>\n",
       "      <td>NaN</td>\n",
       "      <td>46.2</td>\n",
       "    </tr>\n",
       "    <tr>\n",
       "      <th>Even Shaman</th>\n",
       "      <td>17.6</td>\n",
       "      <td>44.1</td>\n",
       "      <td>39.7</td>\n",
       "    </tr>\n",
       "    <tr>\n",
       "      <th>Control Warlock</th>\n",
       "      <td>45.5</td>\n",
       "      <td>51.4</td>\n",
       "      <td>26.8</td>\n",
       "    </tr>\n",
       "    <tr>\n",
       "      <th>Cube Warlock</th>\n",
       "      <td>34.8</td>\n",
       "      <td>45.4</td>\n",
       "      <td>44.1</td>\n",
       "    </tr>\n",
       "    <tr>\n",
       "      <th>Even Warlock</th>\n",
       "      <td>17.5</td>\n",
       "      <td>40.3</td>\n",
       "      <td>24.7</td>\n",
       "    </tr>\n",
       "    <tr>\n",
       "      <th>Zoo Warlock</th>\n",
       "      <td>33.3</td>\n",
       "      <td>36.1</td>\n",
       "      <td>34.8</td>\n",
       "    </tr>\n",
       "    <tr>\n",
       "      <th>Odd Quest Warrior</th>\n",
       "      <td>27.6</td>\n",
       "      <td>46.1</td>\n",
       "      <td>74.8</td>\n",
       "    </tr>\n",
       "    <tr>\n",
       "      <th>Odd Warrior</th>\n",
       "      <td>29.3</td>\n",
       "      <td>38.2</td>\n",
       "      <td>77.4</td>\n",
       "    </tr>\n",
       "  </tbody>\n",
       "</table>\n",
       "</div>"
      ],
      "text/plain": [
       "                    Gonk Druid  Malygos Druid  Mechathun Druid\n",
       "Mechathun Druid           38.1           40.4             50.0\n",
       "Deathrattle Hunter        30.1           30.4             28.4\n",
       "Midrange Hunter           36.9           37.1             41.9\n",
       "Secret Hunter             25.4           37.7             35.7\n",
       "Spell Hunter              22.8           39.3             48.9\n",
       "Big Spell Mage            39.5           50.0             45.3\n",
       "Odd Mage                  29.3           51.1             61.3\n",
       "Tempo Mage                47.4            NaN             35.1\n",
       "Even Paladin              28.2           30.6             47.2\n",
       "Otk Dk Paladin            34.0           48.1             73.3\n",
       "Odd Paladin               28.4           58.2             48.9\n",
       "Clone Priest              45.7           59.2             46.7\n",
       "Combo Priest              48.1           45.6             38.2\n",
       "Control Priest            45.7           68.6             45.9\n",
       "Odd Rogue                 28.7           44.9             41.8\n",
       "Tempo Rogue               50.0           35.5             34.3\n",
       "Thief Rogue               51.6            NaN             46.2\n",
       "Even Shaman               17.6           44.1             39.7\n",
       "Control Warlock           45.5           51.4             26.8\n",
       "Cube Warlock              34.8           45.4             44.1\n",
       "Even Warlock              17.5           40.3             24.7\n",
       "Zoo Warlock               33.3           36.1             34.8\n",
       "Odd Quest Warrior         27.6           46.1             74.8\n",
       "Odd Warrior               29.3           38.2             77.4"
      ]
     },
     "execution_count": 42,
     "metadata": {},
     "output_type": "execute_result"
    }
   ],
   "source": [
    "df_wr"
   ]
  },
  {
   "cell_type": "code",
   "execution_count": 36,
   "metadata": {},
   "outputs": [],
   "source": [
    "vfunc = np.vectorize(clean_name)"
   ]
  },
  {
   "cell_type": "code",
   "execution_count": 37,
   "metadata": {},
   "outputs": [
    {
     "ename": "AttributeError",
     "evalue": "'numpy.ndarray' object has no attribute 'replace'",
     "output_type": "error",
     "traceback": [
      "\u001b[1;31m---------------------------------------------------------------------------\u001b[0m",
      "\u001b[1;31mAttributeError\u001b[0m                            Traceback (most recent call last)",
      "\u001b[1;32m<ipython-input-37-caa49e3264df>\u001b[0m in \u001b[0;36m<module>\u001b[1;34m\u001b[0m\n\u001b[1;32m----> 1\u001b[1;33m \u001b[0mclean_name\u001b[0m\u001b[1;33m(\u001b[0m\u001b[0mdf_wr\u001b[0m\u001b[1;33m.\u001b[0m\u001b[0mindex\u001b[0m\u001b[1;33m.\u001b[0m\u001b[0mvalues\u001b[0m\u001b[1;33m)\u001b[0m\u001b[1;33m\u001b[0m\u001b[0m\n\u001b[0m",
      "\u001b[1;32m<ipython-input-31-de56674a9543>\u001b[0m in \u001b[0;36m<lambda>\u001b[1;34m(deck)\u001b[0m\n\u001b[1;32m----> 1\u001b[1;33m \u001b[0mclean_name\u001b[0m \u001b[1;33m=\u001b[0m \u001b[1;32mlambda\u001b[0m \u001b[0mdeck\u001b[0m\u001b[1;33m:\u001b[0m\u001b[0mdeck\u001b[0m\u001b[1;33m.\u001b[0m\u001b[0mreplace\u001b[0m\u001b[1;33m(\u001b[0m\u001b[1;34m'-'\u001b[0m\u001b[1;33m,\u001b[0m \u001b[1;34m' '\u001b[0m\u001b[1;33m)\u001b[0m\u001b[1;33m.\u001b[0m\u001b[0mtitle\u001b[0m\u001b[1;33m(\u001b[0m\u001b[1;33m)\u001b[0m\u001b[1;33m\u001b[0m\u001b[0m\n\u001b[0m",
      "\u001b[1;31mAttributeError\u001b[0m: 'numpy.ndarray' object has no attribute 'replace'"
     ]
    }
   ],
   "source": [
    "clean_name(df_wr.index.values)"
   ]
  },
  {
   "cell_type": "code",
   "execution_count": 60,
   "metadata": {},
   "outputs": [],
   "source": [
    "driver.quit()"
   ]
  },
  {
   "cell_type": "code",
   "execution_count": 16,
   "metadata": {},
   "outputs": [],
   "source": [
    "driver.quit()\n",
    "\n",
    "df_wr = df_wr.T\n",
    "df_wr = df_wr[list(df_wr.index.values)]\n",
    "df_wr.to_csv(f\"hsreplay_winrates_{datetime.today().strftime('%Y%m%d')}.csv\")"
   ]
  },
  {
   "cell_type": "code",
   "execution_count": null,
   "metadata": {},
   "outputs": [],
   "source": [
    "# File approach\n",
    "# for i, line in enumerate(lines):\n",
    "#     if line.startswith('Versus'):\n",
    "#         matchups.append((' '.join(lines[i-1].split()),' '.join(lines[i].split()[1:]), float(' '.join(lines[i+1].split()[1:]).rstrip('%'))))"
   ]
  },
  {
   "cell_type": "code",
   "execution_count": null,
   "metadata": {},
   "outputs": [],
   "source": []
  }
 ],
 "metadata": {
  "kernelspec": {
   "display_name": "hsdata",
   "language": "python",
   "name": "hsdata"
  },
  "language_info": {
   "codemirror_mode": {
    "name": "ipython",
    "version": 3
   },
   "file_extension": ".py",
   "mimetype": "text/x-python",
   "name": "python",
   "nbconvert_exporter": "python",
   "pygments_lexer": "ipython3",
   "version": "3.6.5"
  }
 },
 "nbformat": 4,
 "nbformat_minor": 2
}
